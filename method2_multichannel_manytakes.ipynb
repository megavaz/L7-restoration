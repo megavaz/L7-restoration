{
 "cells": [
  {
   "cell_type": "code",
   "execution_count": null,
   "metadata": {},
   "outputs": [],
   "source": [
    "import numpy as np\n",
    "from sklearn.cluster import DBSCAN\n",
    "from tifffile import imshow, imsave\n",
    "from tqdm import tqdm\n",
    "import matplotlib.pyplot as plt\n",
    "from time import time\n",
    "from utils import create_mask\n",
    "from catboost import Pool, CatBoostRegressor\n",
    "from skimage.morphology import dilation, disk\n",
    "from catboost import CatBoostError"
   ]
  },
  {
   "cell_type": "code",
   "execution_count": null,
   "metadata": {
    "pycharm": {
     "name": "#%%\n"
    }
   },
   "outputs": [],
   "source": [
    "def NDVI(img, last_channel=False):\n",
    "    ndvi = (img[:,:,:,1] - img[:,:,:,0])/(img[:,:,:,1] + img[:,:,:,0] + 1E-6)\n",
    "    if last_channel:\n",
    "        return np.expand_dims(ndvi, -1)\n",
    "    return ndvi\n",
    "\n",
    "\n",
    "def parse_image(path, all_channels_last=False):\n",
    "  im = np.load(path)\n",
    "  img = im['arr_0']\n",
    "  if all_channels_last:\n",
    "    img = np.moveaxis(img, 0, 2)\n",
    "    img = img.reshape(img.shape[0], img.shape[1], -1)\n",
    "  return img\n",
    "\n",
    "\n",
    "def check_intersection(img):\n",
    "    mask = np.ones((955,955), dtype=bool)\n",
    "    for i in range(len(img)):\n",
    "        msk = img[i] == 0\n",
    "        mask = mask * msk\n",
    "    return np.count_nonzero(mask)"
   ]
  },
  {
   "cell_type": "code",
   "execution_count": null,
   "metadata": {
    "pycharm": {
     "name": "#%%\n"
    }
   },
   "outputs": [],
   "source": [
    "def create_train_data(target_image, training_images, target_mask, train_mask, j, window_size, geospatial=False):\n",
    "    target_image_window = target_image[:, j: j + window_size]\n",
    "    target_mask_window = target_mask[:, j: j + window_size]\n",
    "    if np.count_nonzero(target_mask_window) == 0:\n",
    "        return 0, 0, 0, 0, 0\n",
    "    train_mask_window = train_mask[:, j: j + window_size]\n",
    "    training_images_window = training_images[:, :, j: j + window_size]\n",
    "    # imshow(target_mask_window)\n",
    "    train_data = np.array([training_images_window[m][train_mask_window] for m in range(len(training_images_window))])\n",
    "    train_label = target_image_window[train_mask_window]\n",
    "    train_data = np.moveaxis(train_data, 0, 1)\n",
    "    if geospatial:\n",
    "        coordinates = np.array(np.where(train_mask_window))\n",
    "        coordinates = np.moveaxis(coordinates, 0, 1)\n",
    "        train_data = np.concatenate([train_data, coordinates], axis=1)\n",
    "    # mask_to_fill = train_data == 0\n",
    "    # train_data[mask_to_fill] = None\n",
    "    restore_data = np.array([training_images_window[m][target_mask_window] for m in range(len(training_images_window))])\n",
    "    restore_data = np.moveaxis(restore_data, 0, 1)\n",
    "    if geospatial:\n",
    "        coordinates = np.array(np.where(target_mask_window))\n",
    "        coordinates = np.moveaxis(coordinates, 0, 1)\n",
    "        restore_data = np.concatenate([restore_data, coordinates], axis=1)\n",
    "    # mask_to_fill = restore_data == 0\n",
    "    # restore_data[mask_to_fill] = None\n",
    "    return train_data, train_label, restore_data, target_mask_window, target_image_window\n",
    "\n",
    "\n",
    "def create_order(img):\n",
    "    number_of_skips = [np.count_nonzero(img[i] == 0) for i in range(img.shape[0])]\n",
    "    order = [i for i in range(img.shape[0])]\n",
    "    order = [x for x, _ in sorted(zip(order, number_of_skips), key=lambda pair: pair[1])]\n",
    "    return order\n",
    "\n",
    "def create_horizontal_iteration(img, mask, epsilon=1, n=5, total_max_segments=65, max_covered_length=35):\n",
    "    total_max_segments -= 2\n",
    "    horizontal_iteration = [0]\n",
    "    sliding_average = img[mask][0]\n",
    "    threshold = epsilon * np.std(img[mask])\n",
    "    for j in range(0, img.shape[-1]):\n",
    "        current_value = img[:, j][mask[:,j]]\n",
    "        if current_value.size == 0:\n",
    "            continue\n",
    "        current_value = np.average(current_value)\n",
    "        if np.abs(sliding_average - current_value) >= threshold:\n",
    "            horizontal_iteration.append(j)\n",
    "            sliding_average = current_value\n",
    "        else:\n",
    "            sliding_average = (sliding_average * (n - 1) + current_value) / n\n",
    "        if j - horizontal_iteration[-1] == max_covered_length:\n",
    "            horizontal_iteration.append(j)\n",
    "    # print(total_max_segments, len(horizontal_iteration))\n",
    "    try:\n",
    "        ratio = len(horizontal_iteration) / total_max_segments\n",
    "    except ZeroDivisionError:\n",
    "        return [0, 955]\n",
    "    if ratio > 1:\n",
    "        horizontal_iteration_temp = [0]\n",
    "        main_number, lagging_number = 0, 0\n",
    "        for elem in horizontal_iteration:\n",
    "            main_number += 1\n",
    "            if main_number // ratio > lagging_number:\n",
    "                lagging_number += 1\n",
    "                horizontal_iteration_temp.append(elem)\n",
    "        horizontal_iteration = horizontal_iteration_temp\n",
    "    horizontal_iteration.append(img.shape[-1])\n",
    "    return horizontal_iteration"
   ]
  },
  {
   "cell_type": "code",
   "source": [
    "def restore_images(\n",
    "        img_volume,\n",
    "        mask_volume,\n",
    "        restoration_order,\n",
    "        epsilon=0.7,\n",
    "        max_length=36,\n",
    "        masks_to_sum=1,\n",
    "        total_max_segments=65,\n",
    "        min_value=0.,\n",
    "        max_value=1.,\n",
    "        verbose=True,\n",
    "        geospatial=True\n",
    "):\n",
    "\n",
    "    try:\n",
    "        assert img_volume.shape[0] == mask_volume.shape[0]\n",
    "    except AssertionError:\n",
    "        print('First dimensions of img_volume and mask_volume must be equal!')\n",
    "    for channel in range(img_volume.shape[-1]):\n",
    "        img_volume[:,:,:,channel][~mask_volume] = None\n",
    "    # a = img_volume == None\n",
    "    # for i in range(len(a)):\n",
    "    #     imshow(a[i])\n",
    "    # return img_volume\n",
    "    model = CatBoostRegressor(\n",
    "        learning_rate=0.2,\n",
    "        depth=6,\n",
    "        loss_function='RMSE',\n",
    "        verbose=0,\n",
    "        num_trees=150\n",
    "    )\n",
    "    for target_image_number in restoration_order:\n",
    "        target_image = img_volume[target_image_number]\n",
    "        complementary_mask = mask_volume[target_image_number]\n",
    "        target_mask = create_mask(complementary_mask)\n",
    "        train_mask = dilation(target_mask, disk(1))\n",
    "        restore_indexes = np.where(train_mask)\n",
    "        indexes = np.moveaxis(np.array(restore_indexes), 0, 1)\n",
    "        labels = DBSCAN(eps=1.5).fit_predict(indexes)\n",
    "        train_masks = []\n",
    "        target_masks = []\n",
    "        for i in set(labels):\n",
    "            ind = np.where(labels == i)\n",
    "            train_mask_2 = np.zeros(shape=train_mask.shape, dtype=bool)\n",
    "            rst = tuple((restore_indexes[0][ind], restore_indexes[1][ind]))\n",
    "            train_mask_2[rst] = True\n",
    "            target_masks.append(train_mask_2 * target_mask)\n",
    "            train_masks.append((train_mask_2 ^ target_masks[-1]) * complementary_mask)\n",
    "        check_mask = []\n",
    "        # max_area = np.max(np.count_nonzero(target_masks, axis=(1,2)))\n",
    "        lengths = []\n",
    "\n",
    "        max_area = target_masks[0].shape[-1]\n",
    "        train_masks_aux = [np.zeros(train_masks[0].shape, dtype=bool)]\n",
    "        target_masks_aux = [np.zeros(train_masks[0].shape, dtype=bool)]\n",
    "        i = 0\n",
    "        for train_mask, target_mask in zip(train_masks, target_masks):\n",
    "            if i < masks_to_sum:\n",
    "                train_masks_aux[-1] = train_masks_aux[-1] + train_mask\n",
    "                target_masks_aux[-1] = target_masks_aux[-1] + target_mask\n",
    "                i += 1\n",
    "            else:\n",
    "                i = 1\n",
    "                train_masks_aux.append(train_mask)\n",
    "                target_masks_aux.append(target_mask)\n",
    "        train_masks = train_masks_aux\n",
    "        target_masks = target_masks_aux\n",
    "        for _ in range(len(target_masks)):\n",
    "            auxiliary = np.where(target_masks[_])[1]\n",
    "            lengths.append(auxiliary[-1] - auxiliary[0])\n",
    "        # train_masks\n",
    "        # print(lengths)\n",
    "        training_images = np.concatenate([img_volume[:target_image_number], img_volume[target_image_number+1:]], axis=0)\n",
    "        for train_mask_current, target_mask_current, current_area in tqdm(zip(train_masks, target_masks, lengths), total=len(target_masks), disable=not verbose):\n",
    "            # current_area = np.count_nonzero(target_mask_current)\n",
    "            # print(current_area, max_area)\n",
    "\n",
    "            horizontal_iteration = create_horizontal_iteration(\n",
    "                target_image[:,:,0],\n",
    "                train_mask_current,\n",
    "                epsilon=epsilon,\n",
    "                n=1,\n",
    "                total_max_segments=int(np.round(total_max_segments * current_area / max_area + 1)),\n",
    "                max_covered_length=max_length\n",
    "            )\n",
    "            aux = np.array(target_mask_current)\n",
    "            try:\n",
    "                aux[:, horizontal_iteration[:-1]] = False\n",
    "            except:\n",
    "                aux[:, horizontal_iteration[:-2]] = False\n",
    "            check_mask.append(target_mask_current ^ aux)\n",
    "        # return check_mask\n",
    "        #     print(len(horizontal_iteration))\n",
    "\n",
    "            for m in range(len(horizontal_iteration) - 1):\n",
    "                for channel in range(img_volume.shape[-1]):\n",
    "                    j = horizontal_iteration[m]\n",
    "                    window_size = horizontal_iteration[m+1] - j\n",
    "                    train_data, train_label, restore_data,\\\n",
    "                    target_mask_window, target_image_window = create_train_data(\n",
    "                        target_image[:,:,channel],\n",
    "                        training_images[:,:,:,channel],\n",
    "                        target_mask_current,\n",
    "                        train_mask_current,\n",
    "                        j, window_size, geospatial=geospatial\n",
    "                    )\n",
    "                    if type(train_data) == int:\n",
    "                        # print('err0')\n",
    "                        continue\n",
    "                    train_pool = Pool(train_data, train_label)\n",
    "                    # tick = time()\n",
    "                    try:\n",
    "                        model.fit(train_pool)\n",
    "                        restore_pool = Pool(restore_data)\n",
    "                        res = model.predict(restore_pool)\n",
    "                    except CatBoostError:\n",
    "                        # print('Err1')\n",
    "                        res = np.full((restore_data.shape[0],), np.average(train_label[0]))\n",
    "                    # tack = time()\n",
    "                    # print((tack - tick) * 1000)\n",
    "                    # break\n",
    "                    target_image_window[target_mask_window] = res\n",
    "                    img_volume[target_image_number, :, j: j + window_size, channel] = target_image_window\n",
    "    img_volume = np.nan_to_num(img_volume, nan=0.0)\n",
    "    img_volume = np.clip(img_volume, min_value, max_value)\n",
    "    return img_volume"
   ],
   "metadata": {
    "collapsed": false,
    "pycharm": {
     "name": "#%%\n",
     "is_executing": true
    }
   },
   "execution_count": null,
   "outputs": []
  },
  {
   "cell_type": "code",
   "execution_count": null,
   "outputs": [],
   "source": [
    "for img_num in tqdm(range(22, 23), disable=True):\n",
    "    path = 'D:/Docs/Visillect/agrofields/adc/restoration/data/extended/input/L8_{}.npz'.format(img_num)\n",
    "    img_volume = parse_image(path)\n",
    "    mask_volume = img_volume[:,:,:,0] != 0\n",
    "    range_object = create_order(img_volume)\n",
    "    if check_intersection(img_volume[:,:,:,0]) != 0:\n",
    "        continue\n",
    "    # for target_image_number in range_object:\n",
    "    #     print(np.mean(NDVI(img_volume)[target_image_number][img_volume[target_image_number, :, :, 0] != 0]))\n",
    "    img_volume = NDVI(img_volume, last_channel=True)\n",
    "    img_volume = restore_images(\n",
    "        img_volume,\n",
    "        mask_volume,\n",
    "        restoration_order=range_object,\n",
    "        total_max_segments=10,\n",
    "        min_value=-1.,\n",
    "        verbose=True,\n",
    "        epsilon=0.7,\n",
    "        max_length=36,\n",
    "        masks_to_sum=4,\n",
    "        geospatial=True\n",
    "    )\n",
    "    # np.savez('D:/Docs/Visillect/agrofields/adc/restoration/data/extended/results_ndvi/L8_{}.npz'.format(img_num), img_volume)"
   ],
   "metadata": {
    "collapsed": false,
    "pycharm": {
     "name": "#%%\n",
     "is_executing": true
    }
   }
  },
  {
   "cell_type": "code",
   "execution_count": null,
   "outputs": [],
   "source": [
    "# megamask = np.zeros((955, 955), bool)\n",
    "# for msk in mask:\n",
    "#     megamask = megamask ^ msk\n",
    "# imshow(megamask)"
   ],
   "metadata": {
    "collapsed": false,
    "pycharm": {
     "name": "#%%\n",
     "is_executing": true
    }
   }
  },
  {
   "cell_type": "code",
   "execution_count": null,
   "metadata": {
    "pycharm": {
     "name": "#%%\n",
     "is_executing": true
    }
   },
   "outputs": [],
   "source": [
    "# img_num = 0\n",
    "path = 'D:/Docs/Visillect/agrofields/adc/restoration/data/extended/output/L8_{}.npz'.format(img_num)\n",
    "\n",
    "img2 = parse_image(path)\n",
    "# img2 = img2[:,:,:,0]\n"
   ]
  },
  {
   "cell_type": "code",
   "execution_count": null,
   "outputs": [],
   "source": [
    "# img3 = np.array(img2)\n",
    "# img3[2, :, :, 0][megamask] = 0\n",
    "# # imshow(img3[1, :, :, 0])"
   ],
   "metadata": {
    "collapsed": false,
    "pycharm": {
     "name": "#%%\n",
     "is_executing": true
    }
   }
  },
  {
   "cell_type": "code",
   "execution_count": null,
   "metadata": {
    "pycharm": {
     "name": "#%%\n",
     "is_executing": true
    }
   },
   "outputs": [],
   "source": [
    "# img_volume = np.clip(img_volume, 0, 1)\n",
    "# chnl = 0\n",
    "# for i in range(10):\n",
    "#     imshow(img_volume[i,:,:,chnl], vmax=1, vmin=0)\n",
    "#     # imshow(img3[i,:,:,chnl], vmax=1, vmin=0)\n",
    "#     imshow(img2[i,:,:,chnl], vmax=1, vmin=0)"
   ]
  },
  {
   "cell_type": "code",
   "execution_count": null,
   "metadata": {
    "pycharm": {
     "name": "#%%\n",
     "is_executing": true
    }
   },
   "outputs": [],
   "source": [
    "# for target_image_number in range(img_volume.shape[0]):\n",
    "#     print(mean_absolute_error(img2[target_image_number].reshape(-1), img_volume[target_image_number].reshape(-1)))\n",
    "    # print(mean_squared_error(img2[target_image_number, :, :, 0].reshape(-1), img[target_image_number].reshape(-1)) ** (1 / 2))\n",
    "    # imsave('res{}.tif'.format(target_image_number), img[target_image_number])"
   ]
  },
  {
   "cell_type": "code",
   "execution_count": null,
   "outputs": [],
   "source": [
    "# VI_restored = NDVI(img_volume)\n",
    "VI_restored = img_volume\n",
    "VI_good = NDVI(img2)\n",
    "print(img_volume.shape, range_object)"
   ],
   "metadata": {
    "collapsed": false,
    "pycharm": {
     "name": "#%%\n",
     "is_executing": true
    }
   }
  },
  {
   "cell_type": "code",
   "execution_count": null,
   "outputs": [],
   "source": [
    "from sklearn.metrics import mean_absolute_error, mean_squared_error, r2_score\n",
    "for target_image_number in range(0,10):\n",
    "    print(mean_absolute_error(VI_good[target_image_number].reshape(-1), VI_restored[target_image_number, :, :].reshape(-1)))\n",
    "    # print(r2_score(VI_good[target_image_number].reshape(-1), VI_restored[target_image_number, :, :].reshape(-1)))\n",
    "    imshow(VI_restored[target_image_number, :, :, 0], vmin=-0.5, vmax=0.5)\n",
    "    imshow(VI_good[target_image_number], vmin=-0.5, vmax=0.5)\n",
    "    # imsave('res{}.tif'.format(target_image_number), VI_restored[target_image_number])"
   ],
   "metadata": {
    "collapsed": false,
    "pycharm": {
     "name": "#%%\n",
     "is_executing": true
    }
   }
  },
  {
   "cell_type": "code",
   "execution_count": null,
   "outputs": [],
   "source": [
    "# mask1 = VI_restored[0, 739:769, 750:780, 0] == 0\n",
    "# mask2 = dilation(mask1, disk(3))\n",
    "# mask2 = mask1 ^ mask2\n",
    "# visualization = np.zeros(mask1.shape)\n",
    "# visualization[mask1] = 1\n",
    "# visualization[mask2] = 0.5\n",
    "# imshow(visualization)"
   ],
   "metadata": {
    "collapsed": false,
    "pycharm": {
     "name": "#%%\n",
     "is_executing": true
    }
   }
  },
  {
   "cell_type": "code",
   "execution_count": null,
   "outputs": [],
   "source": [
    "# mask1 = VI_restored[0, :200, 700:900, 0] == 0\n",
    "# aux = VI_restored[0, :200, 700:900, 0]\n",
    "# mask2 = ~mask1\n",
    "# mask2 = create_mask(mask2)\n",
    "# visualization = np.zeros((*(aux.shape), 3))\n",
    "# visualization[:, :, 0] = aux\n",
    "# visualization[:, :, 1][mask2] = 1\n",
    "# visualization[:, :, 0][mask2] = 1\n",
    "# imshow(visualization)"
   ],
   "metadata": {
    "collapsed": false,
    "pycharm": {
     "name": "#%%\n",
     "is_executing": true
    }
   }
  },
  {
   "cell_type": "code",
   "execution_count": null,
   "outputs": [],
   "source": [],
   "metadata": {
    "collapsed": false,
    "pycharm": {
     "name": "#%%\n",
     "is_executing": true
    }
   }
  }
 ],
 "metadata": {
  "kernelspec": {
   "display_name": "VISI",
   "language": "python",
   "name": "visillect"
  },
  "language_info": {
   "codemirror_mode": {
    "name": "ipython",
    "version": 3
   },
   "file_extension": ".py",
   "mimetype": "text/x-python",
   "name": "python",
   "nbconvert_exporter": "python",
   "pygments_lexer": "ipython3",
   "version": "3.8.5"
  }
 },
 "nbformat": 4,
 "nbformat_minor": 1
}