{
 "cells": [
  {
   "cell_type": "code",
   "execution_count": null,
   "metadata": {},
   "outputs": [],
   "source": [
    "import numpy as np\n",
    "from sklearn.cluster import DBSCAN\n",
    "from tifffile import imshow, imsave\n",
    "from tqdm import tqdm\n",
    "import matplotlib.pyplot as plt\n",
    "from time import time"
   ]
  },
  {
   "cell_type": "code",
   "execution_count": null,
   "metadata": {
    "pycharm": {
     "name": "#%%\n"
    }
   },
   "outputs": [],
   "source": [
    "def parse_image(path, all_channels_last=False):\n",
    "  im = np.load(path)\n",
    "  img = im['arr_0']\n",
    "  if all_channels_last:\n",
    "    img = np.moveaxis(img, 0, 2)\n",
    "    img = img.reshape(img.shape[0], img.shape[1], -1)\n",
    "  return img"
   ]
  },
  {
   "cell_type": "code",
   "execution_count": null,
   "metadata": {
    "pycharm": {
     "name": "#%%\n"
    }
   },
   "outputs": [],
   "source": [
    "def check_intersection(img):\n",
    "    mask = np.ones((955,955,3), dtype=np.bool)\n",
    "    for i in range(len(img)):\n",
    "        msk = img[i] == 0\n",
    "        mask = mask * msk\n",
    "    print(np.count_nonzero(mask))"
   ]
  },
  {
   "cell_type": "code",
   "execution_count": null,
   "metadata": {
    "pycharm": {
     "name": "#%%\n"
    }
   },
   "outputs": [],
   "source": [
    "path = 'D:/Docs/Visillect/agrofields/adc/restoration/data/red_nir/input/L8_0.npz'\n",
    "\n",
    "img_volume = parse_image(path)"
   ]
  },
  {
   "cell_type": "code",
   "execution_count": null,
   "metadata": {
    "pycharm": {
     "name": "#%%\n"
    }
   },
   "outputs": [],
   "source": [
    "from catboost import Pool, CatBoostRegressor\n",
    "from skimage.morphology import dilation, disk\n",
    "from catboost import CatBoostError"
   ]
  },
  {
   "cell_type": "code",
   "execution_count": null,
   "metadata": {
    "pycharm": {
     "name": "#%%\n"
    }
   },
   "outputs": [],
   "source": [
    "def create_train_data(target_image, target_mask, train_mask, j, window_size):\n",
    "    target_image_window = target_image[:, j: j + window_size]\n",
    "    target_mask_window = target_mask[:, j: j + window_size]\n",
    "    if np.count_nonzero(target_mask_window) == 0:\n",
    "        return 0, 0, 0, 0, 0\n",
    "    train_mask_window = train_mask[:, j: j + window_size]\n",
    "    training_images_window = training_images[:, :, j: j + window_size]\n",
    "    train_data = np.array([training_images_window[m][train_mask_window] for m in range(len(training_images_window))])\n",
    "    train_label = target_image_window[train_mask_window]\n",
    "    train_data = np.moveaxis(train_data, 0, 1)\n",
    "    mask_to_fill = train_data == 0\n",
    "    train_data[mask_to_fill] = None\n",
    "    restore_data = np.array([training_images_window[m][target_mask_window] for m in range(len(training_images_window))])\n",
    "    restore_data = np.moveaxis(restore_data, 0, 1)\n",
    "    mask_to_fill = restore_data == 0\n",
    "    restore_data[mask_to_fill] = None\n",
    "    return train_data, train_label, restore_data, target_mask_window, target_image_window\n"
   ]
  },
  {
   "cell_type": "code",
   "execution_count": null,
   "outputs": [],
   "source": [
    "def create_order(img):\n",
    "    number_of_skips = [np.count_nonzero(img[i] == 0) for i in range(img.shape[0])]\n",
    "    order = [i for i in range(img.shape[0])]\n",
    "    order = [x for x, _ in sorted(zip(order, number_of_skips), key=lambda pair: pair[1])]\n",
    "    return order\n",
    "\n",
    "def create_horizontal_iteration(img, mask, threshold=1, n=5, total_max_length=65, max_covered_length=20):\n",
    "    total_max_length -= 2\n",
    "    horizontal_iteration = [0]\n",
    "    sliding_average = img[mask][0]\n",
    "    threshold = threshold * np.std(img[mask])\n",
    "    for j in range(0, img.shape[-1]):\n",
    "        current_value = img[:, j][mask[:,j]]\n",
    "        if current_value.size == 0:\n",
    "            continue\n",
    "        current_value = np.average(current_value)\n",
    "        if np.abs(sliding_average - current_value) >= threshold:\n",
    "            horizontal_iteration.append(j)\n",
    "            sliding_average = current_value\n",
    "        else:\n",
    "            sliding_average = (sliding_average * (n - 1) + current_value) / n\n",
    "        if j - horizontal_iteration[-1] == max_covered_length:\n",
    "            horizontal_iteration.append(j)\n",
    "    ratio = len(horizontal_iteration) / total_max_length\n",
    "    if ratio > 1:\n",
    "        horizontal_iteration_temp = [0]\n",
    "        main_number, lagging_number = 0, 0\n",
    "        for elem in horizontal_iteration:\n",
    "            main_number += 1\n",
    "            if main_number // ratio > lagging_number:\n",
    "                lagging_number += 1\n",
    "                horizontal_iteration_temp.append(elem)\n",
    "        horizontal_iteration = horizontal_iteration_temp\n",
    "    horizontal_iteration.append(img.shape[-1])\n",
    "    return horizontal_iteration"
   ],
   "metadata": {
    "collapsed": false,
    "pycharm": {
     "name": "#%%\n"
    }
   }
  },
  {
   "cell_type": "code",
   "execution_count": null,
   "outputs": [],
   "source": [
    "range_object = range(2,3,1)\n",
    "# for i in range_object:\n",
    "#     imshow(img_volume[i,:,:,1], vmax=1, vmin=0)"
   ],
   "metadata": {
    "collapsed": false,
    "pycharm": {
     "name": "#%%\n"
    }
   }
  },
  {
   "cell_type": "code",
   "source": [
    "for channel in range(0,2):\n",
    "    img = img_volume[:,:,:,channel]\n",
    "    for target_image_number in range_object:\n",
    "        target_image = img[target_image_number]\n",
    "        training_images = np.concatenate([img[:target_image_number], img[target_image_number+1:]], axis=0)\n",
    "        target_mask = target_image == 0\n",
    "        train_mask = dilation(target_mask, disk(1))\n",
    "        # train_mask = train_mask ^ target_mask\n",
    "        restore_indexes = np.where(train_mask)\n",
    "        indexes = np.moveaxis(np.array(restore_indexes), 0, 1)\n",
    "        labels = DBSCAN(eps=1.5).fit_predict(indexes)\n",
    "        train_masks = []\n",
    "        target_masks = []\n",
    "        for i in set(labels):\n",
    "            ind = np.where(labels == i)\n",
    "            train_mask_2 = np.zeros(shape=train_mask.shape, dtype=np.bool)\n",
    "            rst = tuple((restore_indexes[0][ind], restore_indexes[1][ind]))\n",
    "            train_mask_2[rst] = True\n",
    "            target_masks.append(train_mask_2 * target_mask)\n",
    "            train_masks.append(train_mask_2 ^ target_masks[-1])\n",
    "        # print(len(set(labels)))\n",
    "        # break\n",
    "        # train_mask = target_image != 0\n",
    "        # noinspection PyUnreachableCode\n",
    "        for train_mask_current, target_mask_current in tqdm(zip(train_masks, target_masks), total=len(target_masks)):\n",
    "            model = CatBoostRegressor(\n",
    "                    depth=6,\n",
    "                    learning_rate=0.2,\n",
    "                    loss_function='RMSE',\n",
    "                    verbose=0, num_trees=40\n",
    "                )\n",
    "            threshold = 0.73\n",
    "            max_length = 36\n",
    "            horizontal_iteration = create_horizontal_iteration(target_image,\n",
    "                                                               train_mask_current,\n",
    "                                                               threshold=threshold,\n",
    "                                                               n=5, total_max_length=57,\n",
    "                                                               max_covered_length=max_length)\n",
    "            print(len(horizontal_iteration))\n",
    "            for m in range(len(horizontal_iteration) - 1):\n",
    "\n",
    "                j = horizontal_iteration[m]\n",
    "                window_size = horizontal_iteration[m+1] - j\n",
    "                train_data, train_label, restore_data,\\\n",
    "                target_mask_window, target_image_window = create_train_data(target_image,\n",
    "                                                                           target_mask_current,\n",
    "                                                                           train_mask_current,\n",
    "                                                                           j, window_size)\n",
    "                if type(train_data) == int:\n",
    "                    continue\n",
    "\n",
    "                # imshow(target_mask_window)\n",
    "                # imshow(target_image_window)\n",
    "                # print(train_data, '|', train_label)\n",
    "                train_pool = Pool(train_data, train_label)\n",
    "\n",
    "\n",
    "                # tick = time()\n",
    "                # model = CatBoostRegressor(\n",
    "                #     depth=6,\n",
    "                #     learning_rate=0.2,\n",
    "                #     loss_function='RMSE',\n",
    "                #     verbose=0, num_trees=40\n",
    "                # )\n",
    "                try:\n",
    "                    model.fit(train_pool)\n",
    "                    restore_pool = Pool(restore_data)\n",
    "                    res = model.predict(restore_pool)\n",
    "                except CatBoostError:\n",
    "                    res = np.full((restore_data.shape[0],), train_label[0])\n",
    "                # tack = time()\n",
    "                # print((tack - tick) * 1000)\n",
    "                # break\n",
    "                target_image_window[target_mask_window] = res\n",
    "                img[target_image_number, :, j: j + window_size] = target_image_window\n",
    "            # break\n",
    "        img[target_image_number] = np.clip(img[target_image_number], 0, 1)\n",
    "    img_volume[:,:,:,channel] = img"
   ],
   "metadata": {
    "collapsed": false,
    "pycharm": {
     "name": "#%%\n"
    }
   },
   "execution_count": null,
   "outputs": []
  },
  {
   "cell_type": "code",
   "execution_count": null,
   "metadata": {
    "pycharm": {
     "name": "#%%\n"
    }
   },
   "outputs": [],
   "source": [
    "path = 'D:/Docs/Visillect/agrofields/adc/restoration/data/red_nir/output/L8_0.npz'\n",
    "\n",
    "img2 = parse_image(path)\n",
    "# img2 = img2[:,:,:,0]"
   ]
  },
  {
   "cell_type": "code",
   "execution_count": null,
   "metadata": {
    "pycharm": {
     "name": "#%%\n"
    }
   },
   "outputs": [],
   "source": [
    "for i in range_object:\n",
    "    imshow(img_volume[i,:,:,0], vmax=1, vmin=0)\n",
    "    imshow(img2[i,:,:,0], vmax=1, vmin=0)"
   ]
  },
  {
   "cell_type": "code",
   "execution_count": null,
   "metadata": {
    "pycharm": {
     "name": "#%%\n"
    },
    "scrolled": false
   },
   "outputs": [],
   "source": [
    "from sklearn.metrics import mean_absolute_error, mean_squared_error"
   ]
  },
  {
   "cell_type": "code",
   "execution_count": null,
   "metadata": {
    "pycharm": {
     "name": "#%%\n"
    }
   },
   "outputs": [],
   "source": [
    "for target_image_number in range_object:\n",
    "    print(mean_absolute_error(img2[target_image_number].reshape(-1), img_volume[target_image_number].reshape(-1)))\n",
    "    # print(mean_squared_error(img2[target_image_number, :, :, 0].reshape(-1), img[target_image_number].reshape(-1)) ** (1 / 2))\n",
    "    # imsave('res{}.tif'.format(target_image_number), img[target_image_number])"
   ]
  },
  {
   "cell_type": "code",
   "execution_count": null,
   "outputs": [],
   "source": [
    "def NDVI(img):\n",
    "    ndvi = (img[:,:,:,1] - img[:,:,:,0])/(img[:,:,:,0] + img[:,:,:,1] + 1E-6)\n",
    "    return ndvi"
   ],
   "metadata": {
    "collapsed": false,
    "pycharm": {
     "name": "#%%\n"
    }
   }
  },
  {
   "cell_type": "code",
   "execution_count": null,
   "outputs": [],
   "source": [
    "VI_good = NDVI(img2)\n",
    "VI_restored = NDVI(img_volume)\n"
   ],
   "metadata": {
    "collapsed": false,
    "pycharm": {
     "name": "#%%\n"
    }
   }
  },
  {
   "cell_type": "code",
   "execution_count": null,
   "outputs": [],
   "source": [
    "for target_image_number in range(img_volume.shape[0]):\n",
    "    print(mean_absolute_error(VI_good[target_image_number], VI_restored[target_image_number]))\n",
    "    imshow(VI_restored[target_image_number])\n",
    "    imshow(VI_good[target_image_number])\n",
    "    # imsave('res{}.tif'.format(target_image_number), VI_restored[target_image_number])"
   ],
   "metadata": {
    "collapsed": false,
    "pycharm": {
     "name": "#%%\n"
    }
   }
  },
  {
   "cell_type": "code",
   "execution_count": null,
   "outputs": [],
   "source": [
    "# from tifffile import imread\n",
    "#\n",
    "# for im_num in range(7):\n",
    "#     a = imread('res{}.tif'.format(im_num))\n",
    "#     imshow(a)\n",
    "#     # a = NDVI(a)\n",
    "#     # imsave('res{}.tif'.format(im_num), a)\n",
    "#\n",
    "# imshow(a)\n",
    "# imshow(img_volume[0])"
   ],
   "metadata": {
    "collapsed": false,
    "pycharm": {
     "name": "#%%\n"
    }
   }
  },
  {
   "cell_type": "code",
   "execution_count": null,
   "outputs": [],
   "source": [],
   "metadata": {
    "collapsed": false,
    "pycharm": {
     "name": "#%%\n"
    }
   }
  }
 ],
 "metadata": {
  "kernelspec": {
   "display_name": "VISI",
   "language": "python",
   "name": "visillect"
  },
  "language_info": {
   "codemirror_mode": {
    "name": "ipython",
    "version": 3
   },
   "file_extension": ".py",
   "mimetype": "text/x-python",
   "name": "python",
   "nbconvert_exporter": "python",
   "pygments_lexer": "ipython3",
   "version": "3.8.5"
  }
 },
 "nbformat": 4,
 "nbformat_minor": 1
}