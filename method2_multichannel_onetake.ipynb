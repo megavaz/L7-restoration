{
 "cells": [
  {
   "cell_type": "code",
   "execution_count": null,
   "metadata": {},
   "outputs": [],
   "source": [
    "import numpy as np\n",
    "from sklearn.cluster import DBSCAN\n",
    "from tifffile import imshow, imsave\n",
    "from tqdm import tqdm\n",
    "import matplotlib.pyplot as plt\n",
    "from time import time"
   ]
  },
  {
   "cell_type": "code",
   "execution_count": null,
   "metadata": {
    "pycharm": {
     "name": "#%%\n"
    }
   },
   "outputs": [],
   "source": [
    "def parse_image(path, all_channels_last=False):\n",
    "  im = np.load(path)\n",
    "  img = im['arr_0']\n",
    "  if all_channels_last:\n",
    "    img = np.moveaxis(img, 0, 2)\n",
    "    img = img.reshape(img.shape[0], img.shape[1], -1)\n",
    "  return img"
   ]
  },
  {
   "cell_type": "code",
   "execution_count": null,
   "metadata": {
    "pycharm": {
     "name": "#%%\n"
    }
   },
   "outputs": [],
   "source": [
    "def check_intersection(img):\n",
    "    mask = np.ones((955,955,3), dtype=np.bool)\n",
    "    for i in range(len(img)):\n",
    "        msk = img[i] == 0\n",
    "        mask = mask * msk\n",
    "    print(np.count_nonzero(mask))"
   ]
  },
  {
   "cell_type": "code",
   "execution_count": null,
   "metadata": {
    "pycharm": {
     "name": "#%%\n"
    }
   },
   "outputs": [],
   "source": [
    "path = 'D:/Docs/Visillect/agrofields/adc/restoration/data/red_nir/input/L8_0.npz'\n",
    "\n",
    "img = parse_image(path)\n",
    "# img = img.reshape(*img.shape, 1)"
   ]
  },
  {
   "cell_type": "code",
   "execution_count": null,
   "metadata": {
    "pycharm": {
     "name": "#%%\n"
    }
   },
   "outputs": [],
   "source": [
    "from catboost import Pool, CatBoostRegressor\n",
    "from skimage.morphology import dilation, disk, square"
   ]
  },
  {
   "cell_type": "code",
   "execution_count": null,
   "metadata": {
    "pycharm": {
     "name": "#%%\n"
    }
   },
   "outputs": [],
   "source": [
    "def create_train_data(target_image, target_mask, train_mask, j, window_size):\n",
    "    train_data_expanded = []\n",
    "    train_label_expanded = []\n",
    "    restore_data_expanded = []\n",
    "\n",
    "    target_mask_window = target_mask[:, j: j + window_size]\n",
    "    for channel in range(target_image.shape[-1]):\n",
    "\n",
    "        target_image_window = target_image[:, j: j + window_size, channel]\n",
    "        if np.count_nonzero(target_mask_window) == 0:\n",
    "            return 0, 0, 0, 0, 0\n",
    "        train_mask_window = train_mask[:, j: j + window_size]\n",
    "        training_images_window = training_images[:, :, j: j + window_size, channel]\n",
    "        train_data = np.array([training_images_window[m][train_mask_window] for m in range(len(training_images_window))])\n",
    "        train_label = target_image_window[train_mask_window]\n",
    "        train_data = np.moveaxis(train_data, 0, 1)\n",
    "        mask_to_fill = train_data == 0\n",
    "        train_data[mask_to_fill] = None\n",
    "        restore_data = np.array([training_images_window[m][target_mask_window] for m in range(len(training_images_window))])\n",
    "        restore_data = np.moveaxis(restore_data, 0, 1)\n",
    "        mask_to_fill = restore_data == 0\n",
    "        restore_data[mask_to_fill] = None\n",
    "        train_data_expanded.append(train_data)\n",
    "        train_label_expanded.append(train_label)\n",
    "        restore_data_expanded.append(restore_data)\n",
    "\n",
    "    train_data_expanded = np.array(train_data_expanded).reshape(-1, len(training_images))\n",
    "    # train_data_expanded = train_data_expanded.reshape(-1, train_data_expanded.shape[-1])\n",
    "    train_label_expanded = np.array(train_label_expanded).reshape(-1)\n",
    "\n",
    "    return train_data_expanded, train_label_expanded, restore_data_expanded,\\\n",
    "           target_mask_window, target_image[:, j: j + window_size]"
   ]
  },
  {
   "cell_type": "markdown",
   "source": [
    "quality mode = 19,\n",
    "performance mode = 96"
   ],
   "metadata": {
    "collapsed": false,
    "pycharm": {
     "name": "#%% md\n"
    }
   }
  },
  {
   "cell_type": "code",
   "execution_count": null,
   "metadata": {
    "pycharm": {
     "name": "#%%\n"
    }
   },
   "outputs": [],
   "source": [
    "window_size = 19\n",
    "threshold = img.shape[1] - window_size\n",
    "\n",
    "for target_image_number in range(6, -1, -1):\n",
    "\n",
    "    target_image = img[target_image_number]\n",
    "    training_images = np.concatenate([img[:target_image_number], img[target_image_number+1:]], axis=0)\n",
    "    target_mask_volumetric = target_image == 0\n",
    "    target_mask = np.zeros(target_mask_volumetric.shape[:-1], dtype=np.bool)\n",
    "    for i in range(target_mask_volumetric.shape[-1]):\n",
    "        target_mask += target_mask_volumetric[:,:,i]\n",
    "    train_mask = dilation(target_mask, disk(10))\n",
    "    # train_mask = train_mask ^ target_mask\n",
    "    # imshow(train_mask)\n",
    "    # break\n",
    "    restore_indexes = np.where(train_mask)\n",
    "    indexes = np.moveaxis(np.array(restore_indexes), 0, 1)\n",
    "    labels = DBSCAN(eps=1.5).fit_predict(indexes)\n",
    "    train_masks = []\n",
    "    target_masks = []\n",
    "    for i in set(labels):\n",
    "        ind = np.where(labels == i)\n",
    "        train_mask_2 = np.zeros(shape=train_mask.shape, dtype=np.bool)\n",
    "        rst = tuple((restore_indexes[0][ind], restore_indexes[1][ind]))\n",
    "        train_mask_2[rst] = True\n",
    "        target_masks.append(train_mask_2 * target_mask)\n",
    "        train_masks.append(train_mask_2 ^ target_masks[-1])\n",
    "    print(len(set(labels)))\n",
    "    # break\n",
    "    # train_mask = target_image != 0\n",
    "    # noinspection PyUnreachableCode\n",
    "    for j in tqdm(range(0, img.shape[2], window_size)):\n",
    "        for train_mask_current, target_mask_current in zip(train_masks, target_masks):\n",
    "            if j > threshold:\n",
    "                j = threshold\n",
    "\n",
    "            train_data, train_label, restore_data, target_mask_window, target_image_window = create_train_data(target_image,\n",
    "                                                                                                               target_mask_current,\n",
    "                                                                                                               train_mask_current,\n",
    "                                                                                                               j, window_size)\n",
    "            # break\n",
    "            if type(train_data) == int:\n",
    "                continue\n",
    "            train_pool = Pool(train_data, train_label)\n",
    "\n",
    "            # tick = time()\n",
    "            model = CatBoostRegressor(\n",
    "                depth=6,\n",
    "                learning_rate=0.2,\n",
    "                loss_function='RMSE',\n",
    "                verbose=0, num_trees=40\n",
    "            )\n",
    "            model.fit(train_pool)\n",
    "            # tack = time()\n",
    "            # print((tack - tick) * 1000)\n",
    "            # break\n",
    "            for i, data in enumerate(restore_data):\n",
    "                restore_pool = Pool(data)\n",
    "                res = model.predict(restore_pool)\n",
    "                target_image_window[:,:,i][target_mask_window] = res\n",
    "            img[target_image_number, :, j: j + window_size] = target_image_window\n",
    "        # break\n",
    "    img[target_image_number] = np.clip(img[target_image_number], 0, 1)\n"
   ]
  },
  {
   "cell_type": "code",
   "execution_count": null,
   "metadata": {
    "pycharm": {
     "name": "#%%\n"
    }
   },
   "outputs": [],
   "source": [
    "path = 'D:/Docs/Visillect/agrofields/adc/restoration/data/red_nir/output/L8_0.npz'\n",
    "\n",
    "img2 = parse_image(path)\n",
    "# img2 = img2.reshape(*img2.shape, 1)"
   ]
  },
  {
   "cell_type": "code",
   "execution_count": null,
   "metadata": {
    "pycharm": {
     "name": "#%%\n"
    },
    "scrolled": false
   },
   "outputs": [],
   "source": [
    "for i in range(len(img)):\n",
    "    imshow(img[i], vmax=1, vmin=0)\n",
    "    imshow(img2[i], vmax=1, vmin=0)"
   ]
  },
  {
   "cell_type": "code",
   "execution_count": null,
   "metadata": {
    "pycharm": {
     "name": "#%%\n"
    }
   },
   "outputs": [],
   "source": [
    "from sklearn.metrics import mean_absolute_error, mean_squared_error"
   ]
  },
  {
   "cell_type": "code",
   "execution_count": null,
   "metadata": {
    "pycharm": {
     "name": "#%%\n"
    }
   },
   "outputs": [],
   "source": [
    "for target_image_number in range(len(img)):\n",
    "    print(mean_absolute_error(img2[target_image_number].reshape(-1), img[target_image_number].reshape(-1)))\n",
    "    # print(mean_squared_error(img2[target_image_number, :, :, 0].reshape(-1), img[target_image_number].reshape(-1)) ** (1 / 2))\n",
    "    # imsave('res{}.tif'.format(target_image_number), img[target_image_number])"
   ]
  },
  {
   "cell_type": "code",
   "execution_count": null,
   "outputs": [],
   "source": [
    "def NDVI(img):\n",
    "    ndvi = (img[:,:,:,1] - img[:,:,:,0])/(img[:,:,:,0] + img[:,:,:,1] + 1E-6)\n",
    "    return ndvi"
   ],
   "metadata": {
    "collapsed": false,
    "pycharm": {
     "name": "#%%\n"
    }
   }
  },
  {
   "cell_type": "code",
   "execution_count": null,
   "outputs": [],
   "source": [
    "VI_good = NDVI(img2)\n",
    "VI_restored = NDVI(img)\n"
   ],
   "metadata": {
    "collapsed": false,
    "pycharm": {
     "name": "#%%\n"
    }
   }
  },
  {
   "cell_type": "code",
   "execution_count": null,
   "outputs": [],
   "source": [
    "for target_image_number in range(7):\n",
    "    print(mean_absolute_error(VI_good[target_image_number], VI_restored[target_image_number]))\n",
    "    imshow(VI_restored[target_image_number])\n",
    "    imshow(VI_good[target_image_number])\n",
    "    imsave('res{}.tif'.format(target_image_number), VI_restored[target_image_number])"
   ],
   "metadata": {
    "collapsed": false,
    "pycharm": {
     "name": "#%%\n"
    }
   }
  }
 ],
 "metadata": {
  "kernelspec": {
   "display_name": "VISI",
   "language": "python",
   "name": "visillect"
  },
  "language_info": {
   "codemirror_mode": {
    "name": "ipython",
    "version": 3
   },
   "file_extension": ".py",
   "mimetype": "text/x-python",
   "name": "python",
   "nbconvert_exporter": "python",
   "pygments_lexer": "ipython3",
   "version": "3.8.5"
  }
 },
 "nbformat": 4,
 "nbformat_minor": 1
}